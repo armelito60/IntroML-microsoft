{
 "cells": [
  {
   "cell_type": "code",
   "execution_count": 6,
   "metadata": {
    "scrolled": false
   },
   "outputs": [
    {
     "data": {
      "text/html": [
       "<div>\n",
       "<style scoped>\n",
       "    .dataframe tbody tr th:only-of-type {\n",
       "        vertical-align: middle;\n",
       "    }\n",
       "\n",
       "    .dataframe tbody tr th {\n",
       "        vertical-align: top;\n",
       "    }\n",
       "\n",
       "    .dataframe thead th {\n",
       "        text-align: right;\n",
       "    }\n",
       "</style>\n",
       "<table border=\"1\" class=\"dataframe\">\n",
       "  <thead>\n",
       "    <tr style=\"text-align: right;\">\n",
       "      <th></th>\n",
       "      <th>City Name</th>\n",
       "      <th>Type</th>\n",
       "      <th>Package</th>\n",
       "      <th>Variety</th>\n",
       "      <th>Sub Variety</th>\n",
       "      <th>Grade</th>\n",
       "      <th>Date</th>\n",
       "      <th>Low Price</th>\n",
       "      <th>High Price</th>\n",
       "      <th>Mostly Low</th>\n",
       "      <th>...</th>\n",
       "      <th>Unit of Sale</th>\n",
       "      <th>Quality</th>\n",
       "      <th>Condition</th>\n",
       "      <th>Appearance</th>\n",
       "      <th>Storage</th>\n",
       "      <th>Crop</th>\n",
       "      <th>Repack</th>\n",
       "      <th>Trans Mode</th>\n",
       "      <th>Unnamed: 24</th>\n",
       "      <th>Unnamed: 25</th>\n",
       "    </tr>\n",
       "  </thead>\n",
       "  <tbody>\n",
       "    <tr>\n",
       "      <th>0</th>\n",
       "      <td>BALTIMORE</td>\n",
       "      <td>NaN</td>\n",
       "      <td>24 inch bins</td>\n",
       "      <td>NaN</td>\n",
       "      <td>NaN</td>\n",
       "      <td>NaN</td>\n",
       "      <td>4/29/17</td>\n",
       "      <td>270.0</td>\n",
       "      <td>280.0</td>\n",
       "      <td>270.0</td>\n",
       "      <td>...</td>\n",
       "      <td>NaN</td>\n",
       "      <td>NaN</td>\n",
       "      <td>NaN</td>\n",
       "      <td>NaN</td>\n",
       "      <td>NaN</td>\n",
       "      <td>NaN</td>\n",
       "      <td>E</td>\n",
       "      <td>NaN</td>\n",
       "      <td>NaN</td>\n",
       "      <td>NaN</td>\n",
       "    </tr>\n",
       "    <tr>\n",
       "      <th>1</th>\n",
       "      <td>BALTIMORE</td>\n",
       "      <td>NaN</td>\n",
       "      <td>24 inch bins</td>\n",
       "      <td>NaN</td>\n",
       "      <td>NaN</td>\n",
       "      <td>NaN</td>\n",
       "      <td>5/6/17</td>\n",
       "      <td>270.0</td>\n",
       "      <td>280.0</td>\n",
       "      <td>270.0</td>\n",
       "      <td>...</td>\n",
       "      <td>NaN</td>\n",
       "      <td>NaN</td>\n",
       "      <td>NaN</td>\n",
       "      <td>NaN</td>\n",
       "      <td>NaN</td>\n",
       "      <td>NaN</td>\n",
       "      <td>E</td>\n",
       "      <td>NaN</td>\n",
       "      <td>NaN</td>\n",
       "      <td>NaN</td>\n",
       "    </tr>\n",
       "    <tr>\n",
       "      <th>2</th>\n",
       "      <td>BALTIMORE</td>\n",
       "      <td>NaN</td>\n",
       "      <td>24 inch bins</td>\n",
       "      <td>HOWDEN TYPE</td>\n",
       "      <td>NaN</td>\n",
       "      <td>NaN</td>\n",
       "      <td>9/24/16</td>\n",
       "      <td>160.0</td>\n",
       "      <td>160.0</td>\n",
       "      <td>160.0</td>\n",
       "      <td>...</td>\n",
       "      <td>NaN</td>\n",
       "      <td>NaN</td>\n",
       "      <td>NaN</td>\n",
       "      <td>NaN</td>\n",
       "      <td>NaN</td>\n",
       "      <td>NaN</td>\n",
       "      <td>N</td>\n",
       "      <td>NaN</td>\n",
       "      <td>NaN</td>\n",
       "      <td>NaN</td>\n",
       "    </tr>\n",
       "    <tr>\n",
       "      <th>3</th>\n",
       "      <td>BALTIMORE</td>\n",
       "      <td>NaN</td>\n",
       "      <td>24 inch bins</td>\n",
       "      <td>HOWDEN TYPE</td>\n",
       "      <td>NaN</td>\n",
       "      <td>NaN</td>\n",
       "      <td>9/24/16</td>\n",
       "      <td>160.0</td>\n",
       "      <td>160.0</td>\n",
       "      <td>160.0</td>\n",
       "      <td>...</td>\n",
       "      <td>NaN</td>\n",
       "      <td>NaN</td>\n",
       "      <td>NaN</td>\n",
       "      <td>NaN</td>\n",
       "      <td>NaN</td>\n",
       "      <td>NaN</td>\n",
       "      <td>N</td>\n",
       "      <td>NaN</td>\n",
       "      <td>NaN</td>\n",
       "      <td>NaN</td>\n",
       "    </tr>\n",
       "    <tr>\n",
       "      <th>4</th>\n",
       "      <td>BALTIMORE</td>\n",
       "      <td>NaN</td>\n",
       "      <td>24 inch bins</td>\n",
       "      <td>HOWDEN TYPE</td>\n",
       "      <td>NaN</td>\n",
       "      <td>NaN</td>\n",
       "      <td>11/5/16</td>\n",
       "      <td>90.0</td>\n",
       "      <td>100.0</td>\n",
       "      <td>90.0</td>\n",
       "      <td>...</td>\n",
       "      <td>NaN</td>\n",
       "      <td>NaN</td>\n",
       "      <td>NaN</td>\n",
       "      <td>NaN</td>\n",
       "      <td>NaN</td>\n",
       "      <td>NaN</td>\n",
       "      <td>N</td>\n",
       "      <td>NaN</td>\n",
       "      <td>NaN</td>\n",
       "      <td>NaN</td>\n",
       "    </tr>\n",
       "  </tbody>\n",
       "</table>\n",
       "<p>5 rows × 26 columns</p>\n",
       "</div>"
      ],
      "text/plain": [
       "   City Name Type       Package      Variety Sub Variety  Grade     Date  \\\n",
       "0  BALTIMORE  NaN  24 inch bins          NaN         NaN    NaN  4/29/17   \n",
       "1  BALTIMORE  NaN  24 inch bins          NaN         NaN    NaN   5/6/17   \n",
       "2  BALTIMORE  NaN  24 inch bins  HOWDEN TYPE         NaN    NaN  9/24/16   \n",
       "3  BALTIMORE  NaN  24 inch bins  HOWDEN TYPE         NaN    NaN  9/24/16   \n",
       "4  BALTIMORE  NaN  24 inch bins  HOWDEN TYPE         NaN    NaN  11/5/16   \n",
       "\n",
       "   Low Price  High Price  Mostly Low  ...  Unit of Sale Quality Condition  \\\n",
       "0      270.0       280.0       270.0  ...           NaN     NaN       NaN   \n",
       "1      270.0       280.0       270.0  ...           NaN     NaN       NaN   \n",
       "2      160.0       160.0       160.0  ...           NaN     NaN       NaN   \n",
       "3      160.0       160.0       160.0  ...           NaN     NaN       NaN   \n",
       "4       90.0       100.0        90.0  ...           NaN     NaN       NaN   \n",
       "\n",
       "  Appearance Storage  Crop Repack  Trans Mode  Unnamed: 24  Unnamed: 25  \n",
       "0        NaN     NaN   NaN      E         NaN          NaN          NaN  \n",
       "1        NaN     NaN   NaN      E         NaN          NaN          NaN  \n",
       "2        NaN     NaN   NaN      N         NaN          NaN          NaN  \n",
       "3        NaN     NaN   NaN      N         NaN          NaN          NaN  \n",
       "4        NaN     NaN   NaN      N         NaN          NaN          NaN  \n",
       "\n",
       "[5 rows x 26 columns]"
      ]
     },
     "execution_count": 6,
     "metadata": {},
     "output_type": "execute_result"
    }
   ],
   "source": [
    "import pandas as pd\n",
    "pumpkins = pd.read_csv('US-pumpkins.csv')\n",
    "pumpkins.head()"
   ]
  },
  {
   "cell_type": "code",
   "execution_count": 5,
   "metadata": {
    "scrolled": false
   },
   "outputs": [
    {
     "data": {
      "text/plain": [
       "City Name             0\n",
       "Type               1712\n",
       "Package               0\n",
       "Variety               5\n",
       "Sub Variety        1461\n",
       "Grade              1757\n",
       "Date                  0\n",
       "Low Price             0\n",
       "High Price            0\n",
       "Mostly Low          103\n",
       "Mostly High         103\n",
       "Origin                3\n",
       "Origin District    1626\n",
       "Item Size           279\n",
       "Color               616\n",
       "Environment        1757\n",
       "Unit of Sale       1595\n",
       "Quality            1757\n",
       "Condition          1757\n",
       "Appearance         1757\n",
       "Storage            1757\n",
       "Crop               1757\n",
       "Repack                0\n",
       "Trans Mode         1757\n",
       "Unnamed: 24        1757\n",
       "Unnamed: 25        1654\n",
       "dtype: int64"
      ]
     },
     "execution_count": 5,
     "metadata": {},
     "output_type": "execute_result"
    }
   ],
   "source": [
    "pumpkins.isnull().sum()"
   ]
  },
  {
   "cell_type": "markdown",
   "metadata": {},
   "source": [
    "What function would you use to view the last five rows?\n",
    "tail()"
   ]
  },
  {
   "cell_type": "code",
   "execution_count": 13,
   "metadata": {},
   "outputs": [
    {
     "name": "stdout",
     "output_type": "stream",
     "text": [
      "            Package     Date  Low Price  High Price\n",
      "0      24 inch bins  4/29/17     270.00      280.00\n",
      "1      24 inch bins   5/6/17     270.00      280.00\n",
      "2      24 inch bins  9/24/16     160.00      160.00\n",
      "3      24 inch bins  9/24/16     160.00      160.00\n",
      "4      24 inch bins  11/5/16      90.00      100.00\n",
      "...             ...      ...        ...         ...\n",
      "1752  22 lb cartons  9/30/16      14.75       14.75\n",
      "1753   36 inch bins  9/26/16     275.00      275.00\n",
      "1754   36 inch bins  9/27/16     275.00      275.00\n",
      "1755   36 inch bins  9/28/16     275.00      275.00\n",
      "1756   36 inch bins  9/29/16     275.00      275.00\n",
      "\n",
      "[1757 rows x 4 columns]\n"
     ]
    }
   ],
   "source": [
    "new_columns = ['Package', 'Month', 'Low Price', 'High Price', 'Date']\n",
    "pumpkins = pumpkins.drop([c for c in pumpkins.columns if c not in new_columns], axis=1)\n",
    "print(pumpkins)"
   ]
  },
  {
   "cell_type": "code",
   "execution_count": 14,
   "metadata": {},
   "outputs": [
    {
     "name": "stdout",
     "output_type": "stream",
     "text": [
      "Int64Index([ 4,  5,  9,  9, 11, 11,  9,  9, 10, 10,\n",
      "            ...\n",
      "             9,  9,  9,  9,  9,  9,  9,  9,  9,  9],\n",
      "           dtype='int64', name='Date', length=1757)\n",
      "0       275.00\n",
      "1       275.00\n",
      "2       160.00\n",
      "3       160.00\n",
      "4        95.00\n",
      "         ...  \n",
      "1752     14.75\n",
      "1753    275.00\n",
      "1754    275.00\n",
      "1755    275.00\n",
      "1756    275.00\n",
      "Length: 1757, dtype: float64\n"
     ]
    }
   ],
   "source": [
    "price = (pumpkins['Low Price'] + pumpkins['High Price']) / 2\n",
    "month = pd.DatetimeIndex(pumpkins['Date']).month\n",
    "print(month)\n",
    "print(price)"
   ]
  },
  {
   "cell_type": "code",
   "execution_count": 12,
   "metadata": {},
   "outputs": [],
   "source": [
    "new_pumpkins = pd.DataFrame({'Month': month, 'Package': pumpkins['Package'], 'Low Price': pumpkins['Low Price'],'High Price': pumpkins['High Price'], 'Price': price})"
   ]
  },
  {
   "cell_type": "code",
   "execution_count": 15,
   "metadata": {},
   "outputs": [
    {
     "name": "stdout",
     "output_type": "stream",
     "text": [
      "      Month        Package  Low Price  High Price   Price\n",
      "0         4   24 inch bins     270.00      280.00  275.00\n",
      "1         5   24 inch bins     270.00      280.00  275.00\n",
      "2         9   24 inch bins     160.00      160.00  160.00\n",
      "3         9   24 inch bins     160.00      160.00  160.00\n",
      "4        11   24 inch bins      90.00      100.00   95.00\n",
      "...     ...            ...        ...         ...     ...\n",
      "1752      9  22 lb cartons      14.75       14.75   14.75\n",
      "1753      9   36 inch bins     275.00      275.00  275.00\n",
      "1754      9   36 inch bins     275.00      275.00  275.00\n",
      "1755      9   36 inch bins     275.00      275.00  275.00\n",
      "1756      9   36 inch bins     275.00      275.00  275.00\n",
      "\n",
      "[1757 rows x 5 columns]\n"
     ]
    }
   ],
   "source": [
    "print(new_pumpkins)"
   ]
  },
  {
   "cell_type": "code",
   "execution_count": 16,
   "metadata": {},
   "outputs": [
    {
     "name": "stdout",
     "output_type": "stream",
     "text": [
      "                   Package     Date  Low Price  High Price\n",
      "70    1 1/9 bushel cartons  9/24/16      15.00        15.0\n",
      "71    1 1/9 bushel cartons  9/24/16      18.00        18.0\n",
      "72    1 1/9 bushel cartons  10/1/16      18.00        18.0\n",
      "73    1 1/9 bushel cartons  10/1/16      17.00        17.0\n",
      "74    1 1/9 bushel cartons  10/8/16      15.00        15.0\n",
      "...                    ...      ...        ...         ...\n",
      "1738    1/2 bushel cartons  9/30/16      15.00        15.0\n",
      "1739    1/2 bushel cartons  9/30/16      13.75        15.0\n",
      "1740    1/2 bushel cartons  9/30/16      10.75        15.0\n",
      "1741    1/2 bushel cartons  9/30/16      12.00        12.0\n",
      "1742    1/2 bushel cartons  9/30/16      12.00        12.0\n",
      "\n",
      "[415 rows x 4 columns]\n"
     ]
    }
   ],
   "source": [
    "pumpkins = pumpkins[pumpkins['Package'].str.contains('bushel', case=True, regex=True)]\n",
    "print(pumpkins)"
   ]
  },
  {
   "cell_type": "code",
   "execution_count": 17,
   "metadata": {},
   "outputs": [
    {
     "name": "stdout",
     "output_type": "stream",
     "text": [
      "                   Package     Date  Low Price  High Price\n",
      "70    1 1/9 bushel cartons  9/24/16      15.00        15.0\n",
      "71    1 1/9 bushel cartons  9/24/16      18.00        18.0\n",
      "72    1 1/9 bushel cartons  10/1/16      18.00        18.0\n",
      "73    1 1/9 bushel cartons  10/1/16      17.00        17.0\n",
      "74    1 1/9 bushel cartons  10/8/16      15.00        15.0\n",
      "...                    ...      ...        ...         ...\n",
      "1738    1/2 bushel cartons  9/30/16      15.00        15.0\n",
      "1739    1/2 bushel cartons  9/30/16      13.75        15.0\n",
      "1740    1/2 bushel cartons  9/30/16      10.75        15.0\n",
      "1741    1/2 bushel cartons  9/30/16      12.00        12.0\n",
      "1742    1/2 bushel cartons  9/30/16      12.00        12.0\n",
      "\n",
      "[415 rows x 4 columns]\n"
     ]
    }
   ],
   "source": [
    "new_pumpkins.loc[new_pumpkins['Package'].str.contains('1 1/9'), 'Price'] = price/(1 + 1/9)\n",
    "new_pumpkins.loc[new_pumpkins['Package'].str.contains('1/2'), 'Price'] = price/(1/2)\n",
    "print(pumpkins)"
   ]
  },
  {
   "cell_type": "markdown",
   "metadata": {},
   "source": [
    "Par exemple, c'est comme si on vendait simplement une pomme à 1,8 euros et on veut obtenir le prix d'un quart de pomme. On doit faire 1.8/(1/4). "
   ]
  },
  {
   "cell_type": "code",
   "execution_count": null,
   "metadata": {},
   "outputs": [],
   "source": []
  }
 ],
 "metadata": {
  "kernelspec": {
   "display_name": "Python 3",
   "language": "python",
   "name": "python3"
  },
  "language_info": {
   "codemirror_mode": {
    "name": "ipython",
    "version": 3
   },
   "file_extension": ".py",
   "mimetype": "text/x-python",
   "name": "python",
   "nbconvert_exporter": "python",
   "pygments_lexer": "ipython3",
   "version": "3.8.5"
  }
 },
 "nbformat": 4,
 "nbformat_minor": 4
}
